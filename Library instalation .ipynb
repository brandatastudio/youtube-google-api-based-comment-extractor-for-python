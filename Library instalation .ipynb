{
 "cells": [
  {
   "cell_type": "markdown",
   "metadata": {},
   "source": [
    "# Installing the youtube api, and starting to use this library "
   ]
  },
  {
   "cell_type": "code",
   "execution_count": null,
   "metadata": {},
   "outputs": [],
   "source": [
    "#You should install the google apliclient python package, to make sure you have the libraries needed to connect \n",
    "# and call them for use. Here you can download it \n",
    "# https://developers.google.com/api-client-library/python/\n",
    "\n",
    "# call this from the command line : pip install --upgrade google-api-python-client"
   ]
  },
  {
   "cell_type": "code",
   "execution_count": null,
   "metadata": {},
   "outputs": [],
   "source": [
    "## you need to get a project up and running, and get a corresponding api key/ auth keys on the google developers page\n",
    "# After that, just modify the youtube_credentials.json and youtube_credentials.py.ipynb to include that api key\n",
    "\n",
    "# With this, you are ready to use the different function files in this project. "
   ]
  },
  {
   "cell_type": "markdown",
   "metadata": {},
   "source": [
    "#  Examples of api conection "
   ]
  },
  {
   "cell_type": "code",
   "execution_count": 3,
   "metadata": {},
   "outputs": [],
   "source": [
    "# To connect to the api, you need to create an object that represents the conection to the api, \n",
    "# like specified here https://developers.google.com/api-client-library/python/start/get_started  \n",
    "\n",
    "from apiclient.discovery import build \n",
    "\n",
    "youtube = build('youtube' , 'v3' , developerKey= api_key)"
   ]
  },
  {
   "cell_type": "code",
   "execution_count": 5,
   "metadata": {},
   "outputs": [
    {
     "data": {
      "text/plain": [
       "googleapiclient.discovery.Resource"
      ]
     },
     "execution_count": 5,
     "metadata": {},
     "output_type": "execute_result"
    }
   ],
   "source": [
    "type(youtube)"
   ]
  },
  {
   "cell_type": "code",
   "execution_count": 22,
   "metadata": {},
   "outputs": [],
   "source": [
    "# this an example api call\n",
    "\n",
    "pipi = youtube.search().list( q = 'perro',part = 'snippet', type = 'video', maxResults = 50 , \n",
    "                             publishedBefore = None , publishedAfter = None, regionCode = None ) # creates a request object\n",
    "\n",
    "jojo = pipi.execute() # stores the response of said requests, creating an execution object\n",
    "    \n",
    "jojo[\"items\"] # prints said result object, filtering by its property \"items\" . Documentation for this is stored here \n"
   ]
  },
  {
   "cell_type": "markdown",
   "metadata": {},
   "source": [
    "# Links used to build this project "
   ]
  },
  {
   "cell_type": "code",
   "execution_count": null,
   "metadata": {},
   "outputs": [],
   "source": [
    "\n",
    "https://www.youtube.com/watch?v=b_jOJNUD350\n",
    "\n",
    "https://developers.google.com/api-client-library/python/start/get_started\n",
    "https://developers.google.com/youtube/v3/docs/search/list\n",
    "https://developers.google.com/youtube/v3/docs/videos/list\n",
    "\n",
    "https://developers.google.com/resources/api-libraries/documentation/youtube/v3/python/latest/\n",
    "\n",
    "https://developers.google.com/youtube/v3/docs/commentThreads/list\n",
    "\n",
    "\n",
    "https://developers.google.com/youtube/v3/docs/commentThreads/list\n",
    "https://developers.google.com/youtube/v3/docs/comments/list#part\n",
    "https://developers.google.com/youtube/v3/docs/comments/list\n",
    "https://developers.google.com/youtube/v3/docs/commentThreads/list#parameters\n",
    "https://stackoverflow.com/questions/36585824/how-to-get-all-comments-more-than-100-of-a-video-using-youtube-data-api-v3"
   ]
  }
 ],
 "metadata": {
  "kernelspec": {
   "display_name": "Python 3",
   "language": "python",
   "name": "python3"
  },
  "language_info": {
   "codemirror_mode": {
    "name": "ipython",
    "version": 3
   },
   "file_extension": ".py",
   "mimetype": "text/x-python",
   "name": "python",
   "nbconvert_exporter": "python",
   "pygments_lexer": "ipython3",
   "version": "3.6.5"
  }
 },
 "nbformat": 4,
 "nbformat_minor": 2
}
