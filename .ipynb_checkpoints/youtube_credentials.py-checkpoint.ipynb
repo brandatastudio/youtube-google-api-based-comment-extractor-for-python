{
 "cells": [
  {
   "cell_type": "code",
   "execution_count": 4,
   "metadata": {},
   "outputs": [],
   "source": [
    "## here we also have to add our user credentials to access the youtube api, \n",
    "# just like in the json document. From here we will autorize our app\n",
    "# to add the information of our credentials, in all our calls to the json file\n",
    "# making the credentials secret to other people that read our code if there were\n",
    "\n",
    "import json\n",
    "\n",
    "\n",
    "#this is the variable that contains the user credential to access\n",
    "#the youtube api we should write the credentials inside the ' ' \n",
    "\n",
    "\n",
    "youtube_apikey = {'youtube_apikeyjson' : 'write your api key here' }\n",
    "\n",
    "#This will dump inside the json file, our python dictionary object, allowing for further calling inside the \n",
    "# different files. \n",
    "\n",
    "with open('youtube_credentials.json', 'w') as secret_info:\n",
    "    json.dump(youtube_apikey, secret_info, indent=4, sort_keys=True)"
   ]
  },
  {
   "cell_type": "code",
   "execution_count": null,
   "metadata": {},
   "outputs": [],
   "source": []
  }
 ],
 "metadata": {
  "kernelspec": {
   "display_name": "Python 3",
   "language": "python",
   "name": "python3"
  },
  "language_info": {
   "codemirror_mode": {
    "name": "ipython",
    "version": 3
   },
   "file_extension": ".py",
   "mimetype": "text/x-python",
   "name": "python",
   "nbconvert_exporter": "python",
   "pygments_lexer": "ipython3",
   "version": "3.6.5"
  }
 },
 "nbformat": 4,
 "nbformat_minor": 2
}
